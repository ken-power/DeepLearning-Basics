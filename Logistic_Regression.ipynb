{
 "cells": [
  {
   "cell_type": "code",
   "execution_count": 1,
   "metadata": {},
   "outputs": [],
   "source": [
    "import numpy as np\n",
    "import matplotlib.pyplot as plt"
   ]
  },
  {
   "cell_type": "code",
   "execution_count": 2,
   "metadata": {},
   "outputs": [],
   "source": [
    "def draw_line(x1, x2):\n",
    "    line = plt.plot(x1, x2)"
   ]
  },
  {
   "cell_type": "code",
   "execution_count": 3,
   "metadata": {},
   "outputs": [],
   "source": [
    "def sigmoid(score):\n",
    "    return 1/(1 + np.exp(-score))"
   ]
  },
  {
   "cell_type": "code",
   "execution_count": 4,
   "metadata": {},
   "outputs": [],
   "source": [
    "def calculate_error(line_parameters, points, y):\n",
    "    m = points.shape[0]\n",
    "    p = sigmoid(points * line_parameters)\n",
    "    cross_entropy = -(1/m)*(np.log(p).T * y + np.log(1-p).T*(1-y))\n",
    "\n",
    "    return cross_entropy"
   ]
  },
  {
   "cell_type": "code",
   "execution_count": 5,
   "metadata": {},
   "outputs": [],
   "source": [
    "# alpha is the learning rate\n",
    "def gradient_descent(line_parameters, points, y, alpha):\n",
    "    m = points.shape[0]\n",
    "    iterations = 2000\n",
    "\n",
    "    for i in range(iterations):\n",
    "        p = sigmoid(points * line_parameters)\n",
    "        gradient = points.T * (p - y) * (alpha/m)\n",
    "        line_parameters = line_parameters - gradient\n",
    "        \n",
    "        \n",
    "        w1 = line_parameters.item(0)\n",
    "        w2 = line_parameters.item(1)\n",
    "        b = line_parameters.item(2)\n",
    "        \n",
    "        x1 = np.array([ bottom_region[:, 0].min(), top_region[:, 0].max() ])\n",
    "\n",
    "        # w1x1 + w2x2 + b = 0\n",
    "        # => x2 = -b / w2 + x1 * (-w1 / w2)\n",
    "        x2 = -b / w2 + x1 * (-w1 / w2)\n",
    "\n",
    "    draw_line(x1, x2)"
   ]
  },
  {
   "cell_type": "code",
   "execution_count": 6,
   "metadata": {},
   "outputs": [],
   "source": [
    "num_points = 100\n",
    "np.random.seed(0)\n",
    "bias = np.ones(num_points)\n",
    "\n",
    "top_region = np.array([np.random.normal(10, 4, num_points), \n",
    "                       np.random.normal(12, 2, num_points),\n",
    "                       bias]).T\n",
    "\n",
    "bottom_region = np.array([np.random.normal(5, 2, num_points), \n",
    "                          np.random.normal(6, 2, num_points),\n",
    "                          bias]).T\n",
    "\n",
    "all_points = np.vstack((top_region, bottom_region))\n",
    "\n",
    "\n",
    "w1 = 0\n",
    "w2 = 0\n",
    "b = 0 # y-intercept\n",
    "line_parameters = np.matrix([w1, w2, b]).T\n",
    "\n",
    "# labels\n",
    "y = np.array([np.zeros(num_points), np.ones(num_points)]).reshape(num_points*2, 1)"
   ]
  },
  {
   "cell_type": "code",
   "execution_count": 8,
   "metadata": {},
   "outputs": [
    {
     "data": {
      "image/png": "[encoded data removed]",
      "text/plain": [
       "<Figure size 288x288 with 1 Axes>"
      ]
     },
     "metadata": {
      "needs_background": "light"
     },
     "output_type": "display_data"
    }
   ],
   "source": [
    "_, ax = plt.subplots(figsize=(4,4))\n",
    "ax.scatter(top_region[:, 0], top_region[:, 1], color='r')\n",
    "ax.scatter(bottom_region[:, 0], bottom_region[:, 1], color='b')\n",
    "\n",
    "gradient_descent(line_parameters, all_points, y, 0.06)\n",
    "\n",
    "plt.show()"
   ]
  },
  {
   "cell_type": "code",
   "execution_count": 9,
   "metadata": {},
   "outputs": [
    {
     "name": "stdout",
     "output_type": "stream",
     "text": [
      "[[0.69314718]]\n"
     ]
    }
   ],
   "source": [
    "error = calculate_error(line_parameters, all_points, y)\n",
    "print(error)"
   ]
  },
  {
   "cell_type": "code",
   "execution_count": null,
   "metadata": {},
   "outputs": [],
   "source": []
  }
 ],
 "metadata": {
  "kernelspec": {
   "display_name": "DeepLearning",
   "language": "python",
   "name": "deeplearning"
  },
  "language_info": {
   "codemirror_mode": {
    "name": "ipython",
    "version": 3
   },
   "file_extension": ".py",
   "mimetype": "text/x-python",
   "name": "python",
   "nbconvert_exporter": "python",
   "pygments_lexer": "ipython3",
   "version": "3.8.5"
  }
 },
 "nbformat": 4,
 "nbformat_minor": 4
}
