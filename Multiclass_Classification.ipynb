{
 "cells": [
  {
   "cell_type": "code",
   "execution_count": 1,
   "metadata": {},
   "outputs": [],
   "source": [
    "import numpy as np\n",
    "import matplotlib.pyplot as plt\n",
    "from sklearn import datasets\n",
    "\n",
    "from keras.models import Sequential\n",
    "from keras.layers import Dense\n",
    "from keras.optimizers import Adam\n",
    "from keras.utils.np_utils import to_categorical"
   ]
  },
  {
   "cell_type": "code",
   "execution_count": 2,
   "metadata": {},
   "outputs": [],
   "source": [
    "num_points = 500\n",
    "centers = [[-1, 1], [-1, -1], [1, -1], [1, 1], [0, 0]]\n",
    "X, y = datasets.make_blobs(n_samples=num_points, \n",
    "                           random_state=123, \n",
    "                           centers=centers, \n",
    "                           cluster_std=0.4)"
   ]
  },
  {
   "cell_type": "code",
   "execution_count": 3,
   "metadata": {},
   "outputs": [
    {
     "data": {
      "text/plain": [
       "<matplotlib.collections.PathCollection at 0x7fda20520b50>"
      ]
     },
     "execution_count": 3,
     "metadata": {},
     "output_type": "execute_result"
    },
    {
     "data": {
      "image/png": "[encoded data removed]",
      "text/plain": [
       "<Figure size 432x288 with 1 Axes>"
      ]
     },
     "metadata": {
      "needs_background": "light"
     },
     "output_type": "display_data"
    }
   ],
   "source": [
    "plt.scatter(X[y==0, 0],X[y==0, 1])\n",
    "plt.scatter(X[y==1, 0],X[y==1, 1])\n",
    "plt.scatter(X[y==2, 0],X[y==2, 1])\n",
    "plt.scatter(X[y==3, 0],X[y==3, 1])\n",
    "plt.scatter(X[y==4, 0],X[y==4, 1])"
   ]
  },
  {
   "cell_type": "code",
   "execution_count": 4,
   "metadata": {},
   "outputs": [
    {
     "name": "stdout",
     "output_type": "stream",
     "text": [
      "Before hot encoding:\n",
      " [3 3 4 0 2 1 1 4 4 4 3 2 1 0 2 4 4 4 3 0 3 0 3 4 1 3 1 0 4 2 3 1 0 4 1 0 4\n",
      " 0 4 0 1 3 3 0 3 1 3 4 0 4 0 2 3 0 2 4 4 0 3 4 1 3 0 4 2 1 1 2 3 2 3 2 1 1\n",
      " 3 2 4 2 2 3 0 2 4 3 2 1 3 3 3 3 1 1 4 2 4 4 1 2 4 1 4 2 2 3 4 1 1 3 3 2 1\n",
      " 3 1 0 1 0 4 4 4 3 1 3 3 3 1 4 4 0 2 0 1 1 0 4 0 1 1 4 4 0 4 3 4 4 2 4 0 0\n",
      " 0 4 2 0 4 1 0 2 2 1 3 0 1 2 2 4 4 1 3 2 3 3 3 2 2 2 4 0 1 1 0 1 4 4 3 2 3\n",
      " 2 3 1 0 3 4 2 1 0 0 0 4 3 0 4 2 2 3 1 0 4 4 1 2 1 3 1 4 4 0 1 4 2 4 0 4 0\n",
      " 1 2 3 0 1 0 3 3 4 3 4 0 0 1 1 3 0 4 1 4 2 1 2 4 4 3 3 1 1 1 4 1 1 1 4 3 1\n",
      " 0 0 2 2 2 3 2 3 4 2 3 3 1 1 0 4 0 3 0 0 0 3 2 2 1 4 2 0 0 2 2 1 3 3 1 3 0\n",
      " 0 1 4 2 2 2 1 0 0 1 0 0 1 2 4 2 4 2 1 3 0 0 1 4 1 2 4 4 4 3 4 1 2 3 1 3 1\n",
      " 0 0 2 4 1 3 1 1 2 1 4 3 1 2 3 2 0 4 1 4 0 2 2 0 1 2 2 4 4 0 4 1 3 3 2 2 0\n",
      " 4 3 3 1 2 2 4 3 0 3 3 3 3 0 1 4 4 4 0 3 3 2 4 0 4 0 0 4 2 2 2 3 0 2 0 0 1\n",
      " 2 3 0 0 2 4 2 3 0 3 0 1 0 4 1 0 0 1 3 1 4 0 2 1 1 3 2 3 2 2 2 3 1 0 0 0 1\n",
      " 3 4 2 1 0 2 1 4 3 3 4 0 0 2 2 0 0 2 2 3 4 3 2 2 2 2 0 1 3 0 2 1 2 0 2 3 4\n",
      " 3 1 4 3 3 0 2 4 0 4 1 3 2 1 3 0 1 2 1]\n"
     ]
    }
   ],
   "source": [
    "print(\"Before hot encoding:\\n\",y)"
   ]
  },
  {
   "cell_type": "code",
   "execution_count": 5,
   "metadata": {},
   "outputs": [
    {
     "name": "stdout",
     "output_type": "stream",
     "text": [
      "[[0. 0. 0. 1. 0.]\n",
      " [0. 0. 0. 1. 0.]\n",
      " [0. 0. 0. 0. 1.]\n",
      " ...\n",
      " [0. 1. 0. 0. 0.]\n",
      " [0. 0. 1. 0. 0.]\n",
      " [0. 1. 0. 0. 0.]]\n"
     ]
    }
   ],
   "source": [
    "num_classes = 5\n",
    "y_cat = to_categorical(y, num_classes)\n",
    "print(y_cat)"
   ]
  },
  {
   "cell_type": "code",
   "execution_count": 6,
   "metadata": {},
   "outputs": [],
   "source": [
    "model = Sequential()\n",
    "\n",
    "model.add(Dense(units=5, input_shape=(2, ), activation='softmax'))\n",
    "model.compile(Adam(lr=0.1), 'categorical_crossentropy', metrics=['accuracy'])\n"
   ]
  },
  {
   "cell_type": "code",
   "execution_count": 7,
   "metadata": {},
   "outputs": [
    {
     "name": "stdout",
     "output_type": "stream",
     "text": [
      "Epoch 1/100\n",
      "10/10 [==============================] - 0s 620us/step - loss: 1.3321 - accuracy: 0.4046\n",
      "Epoch 2/100\n",
      "10/10 [==============================] - 0s 538us/step - loss: 0.6221 - accuracy: 0.8350\n",
      "Epoch 3/100\n",
      "10/10 [==============================] - 0s 551us/step - loss: 0.4380 - accuracy: 0.9095\n",
      "Epoch 4/100\n",
      "10/10 [==============================] - 0s 575us/step - loss: 0.3315 - accuracy: 0.9433\n",
      "Epoch 5/100\n",
      "10/10 [==============================] - 0s 553us/step - loss: 0.2789 - accuracy: 0.9476\n",
      "Epoch 6/100\n",
      "10/10 [==============================] - 0s 560us/step - loss: 0.2485 - accuracy: 0.9379\n",
      "Epoch 7/100\n",
      "10/10 [==============================] - 0s 560us/step - loss: 0.2338 - accuracy: 0.9423\n",
      "Epoch 8/100\n",
      "10/10 [==============================] - 0s 536us/step - loss: 0.2025 - accuracy: 0.9703\n",
      "Epoch 9/100\n",
      "10/10 [==============================] - 0s 600us/step - loss: 0.2144 - accuracy: 0.9580\n",
      "Epoch 10/100\n",
      "10/10 [==============================] - 0s 554us/step - loss: 0.2194 - accuracy: 0.9456\n",
      "Epoch 11/100\n",
      "10/10 [==============================] - 0s 630us/step - loss: 0.2007 - accuracy: 0.9492\n",
      "Epoch 12/100\n",
      "10/10 [==============================] - 0s 555us/step - loss: 0.2136 - accuracy: 0.9443\n",
      "Epoch 13/100\n",
      "10/10 [==============================] - 0s 556us/step - loss: 0.1796 - accuracy: 0.9577\n",
      "Epoch 14/100\n",
      "10/10 [==============================] - 0s 512us/step - loss: 0.1854 - accuracy: 0.9554\n",
      "Epoch 15/100\n",
      "10/10 [==============================] - 0s 533us/step - loss: 0.1883 - accuracy: 0.9501\n",
      "Epoch 16/100\n",
      "10/10 [==============================] - 0s 586us/step - loss: 0.1667 - accuracy: 0.9612\n",
      "Epoch 17/100\n",
      "10/10 [==============================] - 0s 625us/step - loss: 0.1681 - accuracy: 0.9581\n",
      "Epoch 18/100\n",
      "10/10 [==============================] - 0s 612us/step - loss: 0.1750 - accuracy: 0.9554\n",
      "Epoch 19/100\n",
      "10/10 [==============================] - 0s 531us/step - loss: 0.1847 - accuracy: 0.9435\n",
      "Epoch 20/100\n",
      "10/10 [==============================] - 0s 595us/step - loss: 0.1600 - accuracy: 0.9576\n",
      "Epoch 21/100\n",
      "10/10 [==============================] - 0s 566us/step - loss: 0.1640 - accuracy: 0.9572\n",
      "Epoch 22/100\n",
      "10/10 [==============================] - 0s 568us/step - loss: 0.1736 - accuracy: 0.9445\n",
      "Epoch 23/100\n",
      "10/10 [==============================] - 0s 588us/step - loss: 0.1494 - accuracy: 0.9568\n",
      "Epoch 24/100\n",
      "10/10 [==============================] - 0s 581us/step - loss: 0.1499 - accuracy: 0.9637\n",
      "Epoch 25/100\n",
      "10/10 [==============================] - 0s 588us/step - loss: 0.1852 - accuracy: 0.9443\n",
      "Epoch 26/100\n",
      "10/10 [==============================] - 0s 585us/step - loss: 0.1628 - accuracy: 0.9463\n",
      "Epoch 27/100\n",
      "10/10 [==============================] - 0s 597us/step - loss: 0.1545 - accuracy: 0.9498\n",
      "Epoch 28/100\n",
      "10/10 [==============================] - 0s 565us/step - loss: 0.1630 - accuracy: 0.9554\n",
      "Epoch 29/100\n",
      "10/10 [==============================] - 0s 597us/step - loss: 0.1642 - accuracy: 0.9496\n",
      "Epoch 30/100\n",
      "10/10 [==============================] - 0s 586us/step - loss: 0.1797 - accuracy: 0.9455\n",
      "Epoch 31/100\n",
      "10/10 [==============================] - 0s 685us/step - loss: 0.1598 - accuracy: 0.9443\n",
      "Epoch 32/100\n",
      "10/10 [==============================] - 0s 629us/step - loss: 0.1695 - accuracy: 0.9423\n",
      "Epoch 33/100\n",
      "10/10 [==============================] - 0s 573us/step - loss: 0.1427 - accuracy: 0.9539\n",
      "Epoch 34/100\n",
      "10/10 [==============================] - 0s 607us/step - loss: 0.1834 - accuracy: 0.9368\n",
      "Epoch 35/100\n",
      "10/10 [==============================] - 0s 525us/step - loss: 0.1572 - accuracy: 0.9514\n",
      "Epoch 36/100\n",
      "10/10 [==============================] - 0s 580us/step - loss: 0.1525 - accuracy: 0.9562\n",
      "Epoch 37/100\n",
      "10/10 [==============================] - 0s 565us/step - loss: 0.1544 - accuracy: 0.9557\n",
      "Epoch 38/100\n",
      "10/10 [==============================] - 0s 597us/step - loss: 0.1657 - accuracy: 0.9442\n",
      "Epoch 39/100\n",
      "10/10 [==============================] - 0s 615us/step - loss: 0.1562 - accuracy: 0.9456\n",
      "Epoch 40/100\n",
      "10/10 [==============================] - 0s 643us/step - loss: 0.1357 - accuracy: 0.9582\n",
      "Epoch 41/100\n",
      "10/10 [==============================] - 0s 618us/step - loss: 0.1596 - accuracy: 0.9460\n",
      "Epoch 42/100\n",
      "10/10 [==============================] - 0s 629us/step - loss: 0.1389 - accuracy: 0.9633\n",
      "Epoch 43/100\n",
      "10/10 [==============================] - 0s 598us/step - loss: 0.1636 - accuracy: 0.9482\n",
      "Epoch 44/100\n",
      "10/10 [==============================] - 0s 576us/step - loss: 0.1518 - accuracy: 0.9514\n",
      "Epoch 45/100\n",
      "10/10 [==============================] - 0s 559us/step - loss: 0.1514 - accuracy: 0.9537\n",
      "Epoch 46/100\n",
      "10/10 [==============================] - 0s 541us/step - loss: 0.1870 - accuracy: 0.9353\n",
      "Epoch 47/100\n",
      "10/10 [==============================] - 0s 561us/step - loss: 0.1538 - accuracy: 0.9539\n",
      "Epoch 48/100\n",
      "10/10 [==============================] - 0s 549us/step - loss: 0.1528 - accuracy: 0.9410\n",
      "Epoch 49/100\n",
      "10/10 [==============================] - 0s 556us/step - loss: 0.1600 - accuracy: 0.9442\n",
      "Epoch 50/100\n",
      "10/10 [==============================] - 0s 525us/step - loss: 0.1591 - accuracy: 0.9467\n",
      "Epoch 51/100\n",
      "10/10 [==============================] - 0s 543us/step - loss: 0.1722 - accuracy: 0.9420\n",
      "Epoch 52/100\n",
      "10/10 [==============================] - 0s 542us/step - loss: 0.1627 - accuracy: 0.9414\n",
      "Epoch 53/100\n",
      "10/10 [==============================] - 0s 528us/step - loss: 0.1496 - accuracy: 0.9520\n",
      "Epoch 54/100\n",
      "10/10 [==============================] - 0s 563us/step - loss: 0.1808 - accuracy: 0.9301\n",
      "Epoch 55/100\n",
      "10/10 [==============================] - 0s 554us/step - loss: 0.1696 - accuracy: 0.9453\n",
      "Epoch 56/100\n",
      "10/10 [==============================] - 0s 560us/step - loss: 0.1480 - accuracy: 0.9493\n",
      "Epoch 57/100\n",
      "10/10 [==============================] - 0s 548us/step - loss: 0.1512 - accuracy: 0.9539\n",
      "Epoch 58/100\n",
      "10/10 [==============================] - 0s 547us/step - loss: 0.1441 - accuracy: 0.9538\n",
      "Epoch 59/100\n",
      "10/10 [==============================] - 0s 557us/step - loss: 0.1733 - accuracy: 0.9427\n",
      "Epoch 60/100\n",
      "10/10 [==============================] - 0s 528us/step - loss: 0.1863 - accuracy: 0.9220\n",
      "Epoch 61/100\n",
      "10/10 [==============================] - 0s 564us/step - loss: 0.1606 - accuracy: 0.9462\n",
      "Epoch 62/100\n",
      "10/10 [==============================] - 0s 536us/step - loss: 0.1528 - accuracy: 0.9537\n",
      "Epoch 63/100\n",
      "10/10 [==============================] - 0s 588us/step - loss: 0.1562 - accuracy: 0.9560\n",
      "Epoch 64/100\n",
      "10/10 [==============================] - 0s 575us/step - loss: 0.1267 - accuracy: 0.9583\n",
      "Epoch 65/100\n",
      "10/10 [==============================] - 0s 545us/step - loss: 0.1722 - accuracy: 0.9421\n",
      "Epoch 66/100\n",
      "10/10 [==============================] - 0s 537us/step - loss: 0.1648 - accuracy: 0.9450\n",
      "Epoch 67/100\n",
      "10/10 [==============================] - 0s 579us/step - loss: 0.1649 - accuracy: 0.9449\n",
      "Epoch 68/100\n",
      "10/10 [==============================] - 0s 601us/step - loss: 0.1657 - accuracy: 0.9404\n",
      "Epoch 69/100\n",
      "10/10 [==============================] - 0s 550us/step - loss: 0.1582 - accuracy: 0.9426\n",
      "Epoch 70/100\n",
      "10/10 [==============================] - 0s 530us/step - loss: 0.1591 - accuracy: 0.9510\n",
      "Epoch 71/100\n",
      "10/10 [==============================] - 0s 553us/step - loss: 0.1585 - accuracy: 0.9429\n",
      "Epoch 72/100\n",
      "10/10 [==============================] - 0s 547us/step - loss: 0.1298 - accuracy: 0.9575\n",
      "Epoch 73/100\n",
      "10/10 [==============================] - 0s 595us/step - loss: 0.1359 - accuracy: 0.9539\n",
      "Epoch 74/100\n",
      "10/10 [==============================] - 0s 524us/step - loss: 0.1404 - accuracy: 0.9579\n",
      "Epoch 75/100\n",
      "10/10 [==============================] - 0s 511us/step - loss: 0.1344 - accuracy: 0.9584\n",
      "Epoch 76/100\n",
      "10/10 [==============================] - 0s 551us/step - loss: 0.1553 - accuracy: 0.9455\n",
      "Epoch 77/100\n",
      "10/10 [==============================] - 0s 518us/step - loss: 0.1347 - accuracy: 0.9611\n",
      "Epoch 78/100\n",
      "10/10 [==============================] - 0s 541us/step - loss: 0.1674 - accuracy: 0.9423\n",
      "Epoch 79/100\n",
      "10/10 [==============================] - 0s 528us/step - loss: 0.1416 - accuracy: 0.9531\n",
      "Epoch 80/100\n",
      "10/10 [==============================] - 0s 535us/step - loss: 0.1916 - accuracy: 0.9286\n",
      "Epoch 81/100\n"
     ]
    },
    {
     "name": "stdout",
     "output_type": "stream",
     "text": [
      "10/10 [==============================] - 0s 536us/step - loss: 0.1463 - accuracy: 0.9535\n",
      "Epoch 82/100\n",
      "10/10 [==============================] - 0s 526us/step - loss: 0.1595 - accuracy: 0.9484\n",
      "Epoch 83/100\n",
      "10/10 [==============================] - 0s 565us/step - loss: 0.1425 - accuracy: 0.9578\n",
      "Epoch 84/100\n",
      "10/10 [==============================] - 0s 555us/step - loss: 0.1677 - accuracy: 0.9416\n",
      "Epoch 85/100\n",
      "10/10 [==============================] - 0s 568us/step - loss: 0.1973 - accuracy: 0.9318\n",
      "Epoch 86/100\n",
      "10/10 [==============================] - 0s 567us/step - loss: 0.1644 - accuracy: 0.9486\n",
      "Epoch 87/100\n",
      "10/10 [==============================] - 0s 591us/step - loss: 0.1716 - accuracy: 0.9450\n",
      "Epoch 88/100\n",
      "10/10 [==============================] - 0s 540us/step - loss: 0.1775 - accuracy: 0.9373\n",
      "Epoch 89/100\n",
      "10/10 [==============================] - 0s 522us/step - loss: 0.1449 - accuracy: 0.9493\n",
      "Epoch 90/100\n",
      "10/10 [==============================] - 0s 546us/step - loss: 0.1456 - accuracy: 0.9460\n",
      "Epoch 91/100\n",
      "10/10 [==============================] - 0s 565us/step - loss: 0.1577 - accuracy: 0.9451\n",
      "Epoch 92/100\n",
      "10/10 [==============================] - 0s 555us/step - loss: 0.1433 - accuracy: 0.9560\n",
      "Epoch 93/100\n",
      "10/10 [==============================] - 0s 536us/step - loss: 0.1592 - accuracy: 0.9506\n",
      "Epoch 94/100\n",
      "10/10 [==============================] - 0s 541us/step - loss: 0.1582 - accuracy: 0.9509\n",
      "Epoch 95/100\n",
      "10/10 [==============================] - 0s 549us/step - loss: 0.1134 - accuracy: 0.9663\n",
      "Epoch 96/100\n",
      "10/10 [==============================] - 0s 561us/step - loss: 0.1586 - accuracy: 0.9535\n",
      "Epoch 97/100\n",
      "10/10 [==============================] - 0s 579us/step - loss: 0.1297 - accuracy: 0.9644\n",
      "Epoch 98/100\n",
      "10/10 [==============================] - 0s 522us/step - loss: 0.1278 - accuracy: 0.9593\n",
      "Epoch 99/100\n",
      "10/10 [==============================] - 0s 520us/step - loss: 0.1433 - accuracy: 0.9524\n",
      "Epoch 100/100\n",
      "10/10 [==============================] - 0s 526us/step - loss: 0.1588 - accuracy: 0.9442\n"
     ]
    }
   ],
   "source": [
    "history = model.fit(x=X, y=y_cat, verbose=1, batch_size=50, epochs=100)"
   ]
  },
  {
   "cell_type": "code",
   "execution_count": 8,
   "metadata": {},
   "outputs": [],
   "source": [
    "def plot_decision_boundary(X, y_cat, model):\n",
    "    tolerance = 1\n",
    "    x_span = np.linspace(min(X[:, 0]) - tolerance, max(X[:, 0]) + tolerance, 50)\n",
    "    y_span = np.linspace(min(X[:, 1]) - tolerance, max(X[:, 1]) + tolerance, 50)\n",
    "\n",
    "    xx, yy = np.meshgrid(x_span, y_span)\n",
    "    xx_, yy_ = xx.ravel(), yy.ravel()    \n",
    "    grid = np.c_[xx_, yy_]\n",
    "    \n",
    "    predictions = model.predict_classes(grid)\n",
    "    \n",
    "    z = predictions.reshape(xx.shape)\n",
    "    \n",
    "    plt.contourf(xx, yy, z)"
   ]
  },
  {
   "cell_type": "code",
   "execution_count": 9,
   "metadata": {},
   "outputs": [
    {
     "name": "stderr",
     "output_type": "stream",
     "text": [
      "/Users/kenpower/opt/anaconda3/envs/DeepLearning/lib/python3.8/site-packages/tensorflow/python/keras/engine/sequential.py:450: UserWarning: `model.predict_classes()` is deprecated and will be removed after 2021-01-01. Please use instead:* `np.argmax(model.predict(x), axis=-1)`,   if your model does multi-class classification   (e.g. if it uses a `softmax` last-layer activation).* `(model.predict(x) > 0.5).astype(\"int32\")`,   if your model does binary classification   (e.g. if it uses a `sigmoid` last-layer activation).\n",
      "  warnings.warn('`model.predict_classes()` is deprecated and '\n"
     ]
    },
    {
     "data": {
      "text/plain": [
       "<matplotlib.collections.PathCollection at 0x7fda508949d0>"
      ]
     },
     "execution_count": 9,
     "metadata": {},
     "output_type": "execute_result"
    },
    {
     "data": {
      "image/png": "[encoded data removed]",
      "text/plain": [
       "<Figure size 432x288 with 1 Axes>"
      ]
     },
     "metadata": {
      "needs_background": "light"
     },
     "output_type": "display_data"
    }
   ],
   "source": [
    "plot_decision_boundary(X, y_cat, model)\n",
    "plt.scatter(X[y==0, 0],X[y==0, 1])\n",
    "plt.scatter(X[y==1, 0],X[y==1, 1])\n",
    "plt.scatter(X[y==2, 0],X[y==2, 1])\n",
    "plt.scatter(X[y==3, 0],X[y==3, 1])\n",
    "plt.scatter(X[y==4, 0],X[y==4, 1])"
   ]
  },
  {
   "cell_type": "code",
   "execution_count": 10,
   "metadata": {},
   "outputs": [
    {
     "name": "stdout",
     "output_type": "stream",
     "text": [
      "Prediction is: [2]\n"
     ]
    },
    {
     "data": {
      "image/png": "[encoded data removed]",
      "text/plain": [
       "<Figure size 432x288 with 1 Axes>"
      ]
     },
     "metadata": {
      "needs_background": "light"
     },
     "output_type": "display_data"
    }
   ],
   "source": [
    "plot_decision_boundary(X, y_cat, model)\n",
    "plt.scatter(X[y==0, 0],X[y==0, 1])\n",
    "plt.scatter(X[y==1, 0],X[y==1, 1])\n",
    "plt.scatter(X[y==2, 0],X[y==2, 1])\n",
    "plt.scatter(X[y==3, 0],X[y==3, 1])\n",
    "plt.scatter(X[y==4, 0],X[y==4, 1])\n",
    "\n",
    "x = 0.5\n",
    "y = -1\n",
    "point = np.array([[x,y]])\n",
    "\n",
    "prediction = model.predict_classes(point)\n",
    "\n",
    "plt.plot([x], [y], marker=\"o\", markersize=10, color='red')\n",
    "print(\"Prediction is:\", prediction)"
   ]
  },
  {
   "cell_type": "code",
   "execution_count": null,
   "metadata": {},
   "outputs": [],
   "source": []
  }
 ],
 "metadata": {
  "kernelspec": {
   "display_name": "DeepLearning",
   "language": "python",
   "name": "deeplearning"
  },
  "language_info": {
   "codemirror_mode": {
    "name": "ipython",
    "version": 3
   },
   "file_extension": ".py",
   "mimetype": "text/x-python",
   "name": "python",
   "nbconvert_exporter": "python",
   "pygments_lexer": "ipython3",
   "version": "3.8.5"
  }
 },
 "nbformat": 4,
 "nbformat_minor": 4
}
